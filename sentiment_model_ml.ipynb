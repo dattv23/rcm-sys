{
 "cells": [
  {
   "cell_type": "code",
   "execution_count": 19,
   "id": "899ffe4d",
   "metadata": {},
   "outputs": [],
   "source": [
    "import os\n",
    "import logging\n",
    "import joblib\n",
    "import pandas as pd\n",
    "from sklearn.pipeline import Pipeline\n",
    "from sklearn.model_selection import train_test_split\n",
    "from sklearn.feature_extraction.text import TfidfVectorizer\n",
    "from sklearn.metrics import classification_report, confusion_matrix, accuracy_score\n",
    "from preprocessing.text_processor import TextProcessor"
   ]
  },
  {
   "cell_type": "code",
   "execution_count": 21,
   "id": "0dd02cb5",
   "metadata": {},
   "outputs": [],
   "source": [
    "data_path = \"data/labeled/reviews.csv\"\n",
    "teencode_path = \"resources/teencode.csv\"\n",
    "stopwords_path = \"resources/stopwords.txt\"\n",
    "phrases_path = \"resources/phrase_mapping.csv\"\n",
    "output_dir = \"models/sentiment-analysis\"\n",
    "log_dir = \"log\""
   ]
  },
  {
   "cell_type": "code",
   "execution_count": 23,
   "id": "959d2e52",
   "metadata": {},
   "outputs": [],
   "source": [
    "# Logging setup\n",
    "os.makedirs(log_dir, exist_ok=True)\n",
    "log_file = os.path.join(log_dir, \"train_sentiment_model.log\")\n",
    "logging.basicConfig(\n",
    "    level=logging.INFO,\n",
    "    format=\"%(asctime)s - %(levelname)s - %(message)s\",\n",
    "    handlers=[logging.FileHandler(log_file, encoding=\"utf-8\"), logging.StreamHandler()],\n",
    ")"
   ]
  },
  {
   "cell_type": "code",
   "execution_count": 24,
   "id": "184c9776",
   "metadata": {},
   "outputs": [],
   "source": [
    "def load_and_preprocess_data(file_path, processor):\n",
    "    df = pd.read_csv(file_path)\n",
    "    df = df[df[\"label\"] != \"neu\"].dropna(subset=[\"comment\"])\n",
    "    df[\"processed\"] = df[\"comment\"].apply(lambda x: processor.preprocess(x))\n",
    "    df = df[df[\"processed\"].str.strip().str.len() >= 2].reset_index(drop=True)\n",
    "    return df"
   ]
  },
  {
   "cell_type": "code",
   "execution_count": 25,
   "id": "8e06fbdc",
   "metadata": {},
   "outputs": [],
   "source": [
    "from sklearn.ensemble import RandomForestClassifier\n",
    "from sklearn.linear_model import LogisticRegression\n",
    "from sklearn.naive_bayes import MultinomialNB\n",
    "from sklearn.neighbors import KNeighborsClassifier\n",
    "from sklearn.svm import LinearSVC\n",
    "\n",
    "\n",
    "def train_model(X_train, y_train, model_name=\"svm\"):\n",
    "    \"\"\"\n",
    "    Train a sentiment classification pipeline using the specified model.\n",
    "\n",
    "    Parameters:\n",
    "        X_train (array-like): Preprocessed input texts.\n",
    "        y_train (array-like): Corresponding labels.\n",
    "        model_name (str): One of 'svm', 'logistic', 'naive_bayes', 'random_forest', 'knn'.\n",
    "\n",
    "    Returns:\n",
    "        Pipeline: Trained scikit-learn pipeline\n",
    "    \"\"\"\n",
    "    # Select classifier\n",
    "    if model_name == \"svm\":\n",
    "        clf = LinearSVC(dual=\"auto\")\n",
    "    elif model_name == \"logistic\":\n",
    "        clf = LogisticRegression(max_iter=1000)\n",
    "    elif model_name == \"naive_bayes\":\n",
    "        clf = MultinomialNB()\n",
    "    elif model_name == \"random_forest\":\n",
    "        clf = RandomForestClassifier(n_estimators=100, random_state=42)\n",
    "    elif model_name == \"knn\":\n",
    "        clf = KNeighborsClassifier(n_neighbors=3)\n",
    "    else:\n",
    "        raise ValueError(f\"Unsupported model: {model_name}\")\n",
    "\n",
    "    # Define pipeline\n",
    "    pipeline = Pipeline(\n",
    "        [\n",
    "            (\n",
    "                \"tfidf\",\n",
    "                TfidfVectorizer(\n",
    "                    max_features=3000, min_df=5, max_df=0.8, sublinear_tf=True\n",
    "                ),\n",
    "            ),\n",
    "            (\"clf\", clf),\n",
    "        ]\n",
    "    )\n",
    "\n",
    "    pipeline.fit(X_train, y_train)\n",
    "    return pipeline"
   ]
  },
  {
   "cell_type": "code",
   "execution_count": 26,
   "id": "a252571b",
   "metadata": {},
   "outputs": [],
   "source": [
    "def evaluate_model(model, X_test, y_test):\n",
    "    preds = model.predict(X_test)\n",
    "    acc = accuracy_score(y_test, preds)\n",
    "    report = classification_report(y_test, preds)\n",
    "    cm = confusion_matrix(y_test, preds)\n",
    "    return acc, report, cm, preds"
   ]
  },
  {
   "cell_type": "code",
   "execution_count": 27,
   "id": "01e13720",
   "metadata": {},
   "outputs": [],
   "source": [
    "# Initialize text processor\n",
    "processor = TextProcessor(\n",
    "    teencode_path=teencode_path,\n",
    "    stopword_path=stopwords_path,\n",
    "    phrase_mapping_path=phrases_path,\n",
    ")"
   ]
  },
  {
   "cell_type": "code",
   "execution_count": 28,
   "id": "a1bd08d4",
   "metadata": {},
   "outputs": [],
   "source": [
    "logging.info(\"Loading and preprocessing data...\")\n",
    "df = load_and_preprocess_data(data_path, processor)\n",
    "X = df[\"processed\"]\n",
    "y = df[\"label\"]\n",
    "X_train, X_test, y_train, y_test = train_test_split(\n",
    "    X, y, test_size=0.3, random_state=42\n",
    ")"
   ]
  },
  {
   "cell_type": "code",
   "execution_count": 29,
   "id": "2ca9b9c2",
   "metadata": {},
   "outputs": [
    {
     "name": "stdout",
     "output_type": "stream",
     "text": [
      "Training with svm...\n",
      "✅ Model saved to models/sentiment-analysis/svm.pkl\n",
      "SVM accuracy: 0.8950\n",
      "\n",
      "Training with logistic...\n",
      "✅ Model saved to models/sentiment-analysis/logistic.pkl\n",
      "LOGISTIC accuracy: 0.8867\n",
      "\n",
      "Training with naive_bayes...\n",
      "✅ Model saved to models/sentiment-analysis/naive_bayes.pkl\n",
      "NAIVE_BAYES accuracy: 0.8867\n",
      "\n",
      "Training with random_forest...\n",
      "✅ Model saved to models/sentiment-analysis/random_forest.pkl\n",
      "RANDOM_FOREST accuracy: 0.9050\n",
      "\n",
      "Training with knn...\n",
      "✅ Model saved to models/sentiment-analysis/knn.pkl\n",
      "KNN accuracy: 0.6458\n",
      "\n"
     ]
    },
    {
     "data": {
      "image/png": "[encoded data removed]",
      "text/plain": [
       "<Figure size 1000x600 with 1 Axes>"
      ]
     },
     "metadata": {},
     "output_type": "display_data"
    }
   ],
   "source": [
    "import matplotlib.pyplot as plt\n",
    "from sklearn.metrics import accuracy_score\n",
    "\n",
    "# List of models to evaluate\n",
    "models_to_test = [\"svm\", \"logistic\", \"naive_bayes\", \"random_forest\", \"knn\"]\n",
    "\n",
    "accuracies = []  # To store the accuracy of each model\n",
    "\n",
    "# Train and evaluate each model\n",
    "for model_name in models_to_test:\n",
    "    print(\n",
    "        f\"Training with {model_name}...\"\n",
    "    )  # Inform which model is currently being trained\n",
    "\n",
    "    model = train_model(X_train, y_train, model_name)  # Train the model\n",
    "    preds = model.predict(X_test)  # Predict on the test set\n",
    "    acc = accuracy_score(y_test, preds)  # Compute accuracy\n",
    "    accuracies.append(acc)  # Save accuracy to the list\n",
    "\n",
    "    logging.info(f\"Accuracy: {acc:.4f}\")\n",
    "    os.makedirs(output_dir, exist_ok=True)\n",
    "    model_path = f\"{output_dir}/{model_name}.pkl\"\n",
    "    joblib.dump(model, model_path)\n",
    "    logging.info(f\"Model saved to {model_path}\")\n",
    "    print(f\"✅ Model saved to {model_path}\")\n",
    "\n",
    "    print(f\"{model_name.upper()} accuracy: {acc:.4f}\\n\")  # Print accuracy\n",
    "\n",
    "# Prepare model names for display (capitalize and format)\n",
    "model_names = [name.upper().replace(\"_\", \" \") for name in models_to_test]\n",
    "\n",
    "# Plotting the accuracies\n",
    "plt.figure(figsize=(10, 6))\n",
    "plt.bar(model_names, accuracies, color=\"skyblue\")  # Bar chart of model accuracies\n",
    "plt.title(\"Comparison of Classification Model Accuracies\")\n",
    "plt.xlabel(\"Model\")\n",
    "plt.ylabel(\"Accuracy\")\n",
    "plt.ylim(0, 1)  # Set y-axis range to 0–1 for accuracy\n",
    "plt.grid(axis=\"y\", linestyle=\"--\", alpha=0.7)  # Add horizontal grid lines\n",
    "\n",
    "# Add accuracy values on top of each bar\n",
    "for i, acc in enumerate(accuracies):\n",
    "    plt.text(i, acc + 0.01, f\"{acc:.2f}\", ha=\"center\", va=\"bottom\")\n",
    "\n",
    "plt.tight_layout()  # Adjust layout to fit elements\n",
    "plt.show()  # Display the plot"
   ]
  },
  {
   "cell_type": "code",
   "execution_count": 30,
   "id": "804c4258",
   "metadata": {},
   "outputs": [],
   "source": [
    "def load_model(model_path):\n",
    "    \"\"\"Load a trained sentiment analysis model from file.\"\"\"\n",
    "    try:\n",
    "        model = joblib.load(model_path)\n",
    "        logging.info(f\"Model loaded from {model_path}\")\n",
    "        return model\n",
    "    except Exception as e:\n",
    "        logging.error(f\"Failed to load model: {e}\")\n",
    "        exit(1)"
   ]
  },
  {
   "cell_type": "code",
   "execution_count": 31,
   "id": "f6f0e703",
   "metadata": {},
   "outputs": [
    {
     "name": "stdout",
     "output_type": "stream",
     "text": [
      "📦 Dự đoán cảm xúc:\n",
      "🗨️ \"Giao hàng nhanh, sản phẩm đúng như mô tả.\" → 📌 pos\n",
      "🗨️ \"Sách bị rách và giao sai hàng.\" → 📌 neg\n",
      "🗨️ \"Chất lượng ổn, giá cả hợp lý.\" → 📌 pos\n",
      "🗨️ \"Thái độ nhân viên không tốt.\" → 📌 neg\n",
      "🗨️ \"Đóng gói cẩn thận, rất hài lòng.\" → 📌 pos\n",
      "🗨️ \"Xuất sắc\" → 📌 pos\n"
     ]
    }
   ],
   "source": [
    "comments = [\n",
    "    \"Giao hàng nhanh, sản phẩm đúng như mô tả.\",\n",
    "    \"Sách bị rách và giao sai hàng.\",\n",
    "    \"Chất lượng ổn, giá cả hợp lý.\",\n",
    "    \"Thái độ nhân viên không tốt.\",\n",
    "    \"Đóng gói cẩn thận, rất hài lòng.\",\n",
    "    \"Xuất sắc\"\n",
    "]\n",
    "\n",
    "# Initialize text processor\n",
    "processor = TextProcessor(\n",
    "    teencode_path=teencode_path,\n",
    "    stopword_path=stopwords_path,\n",
    "    phrase_mapping_path=phrases_path,\n",
    ")\n",
    "\n",
    "# Load model and preprocess input\n",
    "model = load_model(\"models/sentiment-analysis/random_forest.pkl\")\n",
    "\n",
    "# Predict and display results\n",
    "print(\"📦 Dự đoán cảm xúc:\")\n",
    "for cmt in comments:\n",
    "    cleaned = processor.preprocess(cmt)\n",
    "    label = model.predict([cleaned])[0]\n",
    "    print(f'🗨️ \"{cmt}\" → 📌 {label}')"
   ]
  }
 ],
 "metadata": {
  "kernelspec": {
   "display_name": "Python 3",
   "language": "python",
   "name": "python3"
  },
  "language_info": {
   "codemirror_mode": {
    "name": "ipython",
    "version": 3
   },
   "file_extension": ".py",
   "mimetype": "text/x-python",
   "name": "python",
   "nbconvert_exporter": "python",
   "pygments_lexer": "ipython3",
   "version": "3.10.8"
  }
 },
 "nbformat": 4,
 "nbformat_minor": 5
}
