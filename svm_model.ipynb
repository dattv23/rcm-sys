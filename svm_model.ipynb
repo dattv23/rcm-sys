{
 "cells": [
  {
   "cell_type": "code",
   "execution_count": 1,
   "id": "899ffe4d",
   "metadata": {},
   "outputs": [],
   "source": [
    "import os\n",
    "import logging\n",
    "import joblib\n",
    "import pandas as pd\n",
    "from sklearn.pipeline import Pipeline\n",
    "from sklearn.model_selection import train_test_split\n",
    "from sklearn.feature_extraction.text import TfidfVectorizer\n",
    "from sklearn.svm import LinearSVC\n",
    "from sklearn.metrics import classification_report, confusion_matrix, accuracy_score\n",
    "from datetime import datetime\n",
    "from pathlib import Path\n",
    "from preprocessing.text_processor import TextProcessor"
   ]
  },
  {
   "cell_type": "code",
   "execution_count": 10,
   "id": "0dd02cb5",
   "metadata": {},
   "outputs": [],
   "source": [
    "data_path = \"data/labeled/reviews.csv\"\n",
    "teencode_path = \"resources/teencode.csv\"\n",
    "stopwords_path = \"resources/stopwords.txt\"\n",
    "phrases_path = \"resources/phrase_mapping.csv\"\n",
    "output_model = \"models/svm_model.pkl\""
   ]
  },
  {
   "cell_type": "code",
   "execution_count": 2,
   "id": "959d2e52",
   "metadata": {},
   "outputs": [],
   "source": [
    "# Logging setup\n",
    "log_dir = \"log\"\n",
    "os.makedirs(log_dir, exist_ok=True)\n",
    "log_file = os.path.join(log_dir, \"train_svm_model.log\")\n",
    "logging.basicConfig(\n",
    "    level=logging.INFO,\n",
    "    format=\"%(asctime)s - %(levelname)s - %(message)s\",\n",
    "    handlers=[logging.FileHandler(log_file, encoding=\"utf-8\"), logging.StreamHandler()],\n",
    ")"
   ]
  },
  {
   "cell_type": "code",
   "execution_count": null,
   "id": "184c9776",
   "metadata": {},
   "outputs": [],
   "source": [
    "def load_and_preprocess_data(file_path, processor):\n",
    "    df = pd.read_csv(file_path)\n",
    "    df = df[df[\"label\"] != \"neu\"].dropna(subset=[\"comment\"])\n",
    "    df[\"processed\"] = df[\"comment\"].apply(lambda x: processor.preprocess(x))\n",
    "    df = df[df[\"processed\"].str.strip().str.len() >= 2].reset_index(drop=True)\n",
    "    return df"
   ]
  },
  {
   "cell_type": "code",
   "execution_count": 4,
   "id": "8e06fbdc",
   "metadata": {},
   "outputs": [],
   "source": [
    "from sklearn.svm import LinearSVC\n",
    "\n",
    "def train_model(X_train, y_train):\n",
    "    pipeline = Pipeline([\n",
    "        (\"tfidf\", TfidfVectorizer(max_features=3000, min_df=5, max_df=0.8, sublinear_tf=True)),\n",
    "        (\"clf\", LinearSVC(dual=\"auto\")),\n",
    "    ])\n",
    "    pipeline.fit(X_train, y_train)\n",
    "    return pipeline"
   ]
  },
  {
   "cell_type": "code",
   "execution_count": 5,
   "id": "a252571b",
   "metadata": {},
   "outputs": [],
   "source": [
    "def evaluate_model(model, X_test, y_test):\n",
    "    preds = model.predict(X_test)\n",
    "    acc = accuracy_score(y_test, preds)\n",
    "    report = classification_report(y_test, preds)\n",
    "    cm = confusion_matrix(y_test, preds)\n",
    "    return acc, report, cm, preds"
   ]
  },
  {
   "cell_type": "code",
   "execution_count": null,
   "id": "f1791aba",
   "metadata": {},
   "outputs": [
    {
     "name": "stderr",
     "output_type": "stream",
     "text": [
      "2025-06-21 22:24:22,567 - INFO - Loading and preprocessing data...\n"
     ]
    },
    {
     "name": "stderr",
     "output_type": "stream",
     "text": [
      "2025-06-21 22:24:30,925 - INFO - Training model...\n",
      "2025-06-21 22:24:31,060 - INFO - Accuracy: 0.8984\n",
      "2025-06-21 22:24:31,061 - INFO - Classification Report:\n",
      "              precision    recall  f1-score   support\n",
      "\n",
      "         neg       0.87      0.94      0.90       607\n",
      "         pos       0.94      0.85      0.89       594\n",
      "\n",
      "    accuracy                           0.90      1201\n",
      "   macro avg       0.90      0.90      0.90      1201\n",
      "weighted avg       0.90      0.90      0.90      1201\n",
      "\n",
      "2025-06-21 22:24:31,114 - INFO - Model saved to models\\20250621_svm_model.pkl\n"
     ]
    },
    {
     "name": "stdout",
     "output_type": "stream",
     "text": [
      "✅ Model saved to models\\20250621_svm_model.pkl\n"
     ]
    }
   ],
   "source": [
    "# Initialize text processor\n",
    "processor = TextProcessor(\n",
    "    teencode_path=teencode_path,\n",
    "    stopword_path=stopwords_path,\n",
    "    phrase_mapping_path=phrases_path,\n",
    ")\n",
    "\n",
    "logging.info(\"Loading and preprocessing data...\")\n",
    "df = load_and_preprocess_data(data_path, processor)\n",
    "X = df[\"processed\"]\n",
    "y = df[\"label\"]\n",
    "X_train, X_test, y_train, y_test = train_test_split(\n",
    "    X, y, test_size=0.3, random_state=42\n",
    ")\n",
    "logging.info(\"Training model...\")\n",
    "model = train_model(X_train, y_train)\n",
    "\n",
    "acc, report, cm, preds = evaluate_model(model, X_test, y_test)\n",
    "logging.info(f\"Accuracy: {acc:.4f}\")\n",
    "logging.info(f\"Classification Report:\\n{report}\")\n",
    "\n",
    "today = datetime.now().strftime(\"%Y%m%d\")\n",
    "output_path = Path(output_model)\n",
    "os.makedirs(output_path.parent, exist_ok=True)\n",
    "model_path = output_path.parent / f\"{today}_{output_path.name}\"\n",
    "joblib.dump(model, model_path)\n",
    "logging.info(f\"Model saved to {model_path}\")\n",
    "print(f\"✅ Model saved to {model_path}\")"
   ]
  },
  {
   "cell_type": "code",
   "execution_count": 7,
   "id": "9cbf8f6d",
   "metadata": {},
   "outputs": [
    {
     "data": {
      "text/html": [
       "<div>\n",
       "<style scoped>\n",
       "    .dataframe tbody tr th:only-of-type {\n",
       "        vertical-align: middle;\n",
       "    }\n",
       "\n",
       "    .dataframe tbody tr th {\n",
       "        vertical-align: top;\n",
       "    }\n",
       "\n",
       "    .dataframe thead th {\n",
       "        text-align: right;\n",
       "    }\n",
       "</style>\n",
       "<table border=\"1\" class=\"dataframe\">\n",
       "  <thead>\n",
       "    <tr style=\"text-align: right;\">\n",
       "      <th></th>\n",
       "      <th>productID</th>\n",
       "      <th>userId</th>\n",
       "      <th>rating</th>\n",
       "      <th>comment</th>\n",
       "      <th>label</th>\n",
       "      <th>processed</th>\n",
       "    </tr>\n",
       "  </thead>\n",
       "  <tbody>\n",
       "    <tr>\n",
       "      <th>0</th>\n",
       "      <td>74021317</td>\n",
       "      <td>7991785</td>\n",
       "      <td>5</td>\n",
       "      <td>Một quyển sách hay</td>\n",
       "      <td>pos</td>\n",
       "      <td>quyển_sách hay</td>\n",
       "    </tr>\n",
       "    <tr>\n",
       "      <th>1</th>\n",
       "      <td>187827003</td>\n",
       "      <td>18150739</td>\n",
       "      <td>5</td>\n",
       "      <td>Mình đã từng đọc sơ nội dung sách, rất hay, rấ...</td>\n",
       "      <td>pos</td>\n",
       "      <td>đọc sơ nội_dung sách hay đáng_để nghiền_ngẫm t...</td>\n",
       "    </tr>\n",
       "    <tr>\n",
       "      <th>2</th>\n",
       "      <td>271380890</td>\n",
       "      <td>497788</td>\n",
       "      <td>5</td>\n",
       "      <td>Quyển sách đẹp về hình thức, nội dung mới đọc ...</td>\n",
       "      <td>pos</td>\n",
       "      <td>quyển_sách đẹp hình_thức nội_dung mới đọc tò_m...</td>\n",
       "    </tr>\n",
       "    <tr>\n",
       "      <th>3</th>\n",
       "      <td>74021317</td>\n",
       "      <td>19165924</td>\n",
       "      <td>5</td>\n",
       "      <td>Sách đẹp, hài lòng</td>\n",
       "      <td>pos</td>\n",
       "      <td>sách_đẹp hài_lòng</td>\n",
       "    </tr>\n",
       "    <tr>\n",
       "      <th>4</th>\n",
       "      <td>105483727</td>\n",
       "      <td>10170816</td>\n",
       "      <td>5</td>\n",
       "      <td>sách đóng gói cẩn thận, giao hành nhanh</td>\n",
       "      <td>pos</td>\n",
       "      <td>sách đóng_gói_cẩn_thận giao_hàng_nhanh</td>\n",
       "    </tr>\n",
       "  </tbody>\n",
       "</table>\n",
       "</div>"
      ],
      "text/plain": [
       "   productID    userId  rating  \\\n",
       "0   74021317   7991785       5   \n",
       "1  187827003  18150739       5   \n",
       "2  271380890    497788       5   \n",
       "3   74021317  19165924       5   \n",
       "4  105483727  10170816       5   \n",
       "\n",
       "                                             comment label  \\\n",
       "0                                 Một quyển sách hay   pos   \n",
       "1  Mình đã từng đọc sơ nội dung sách, rất hay, rấ...   pos   \n",
       "2  Quyển sách đẹp về hình thức, nội dung mới đọc ...   pos   \n",
       "3                                 Sách đẹp, hài lòng   pos   \n",
       "4            sách đóng gói cẩn thận, giao hành nhanh   pos   \n",
       "\n",
       "                                           processed  \n",
       "0                                     quyển_sách hay  \n",
       "1  đọc sơ nội_dung sách hay đáng_để nghiền_ngẫm t...  \n",
       "2  quyển_sách đẹp hình_thức nội_dung mới đọc tò_m...  \n",
       "3                                  sách_đẹp hài_lòng  \n",
       "4             sách đóng_gói_cẩn_thận giao_hàng_nhanh  "
      ]
     },
     "execution_count": 7,
     "metadata": {},
     "output_type": "execute_result"
    }
   ],
   "source": [
    "df.head()"
   ]
  },
  {
   "cell_type": "code",
   "execution_count": 8,
   "id": "804c4258",
   "metadata": {},
   "outputs": [],
   "source": [
    "def load_model(model_path):\n",
    "    \"\"\"Load a trained sentiment analysis model from file.\"\"\"\n",
    "    try:\n",
    "        model = joblib.load(model_path)\n",
    "        logging.info(f\"Model loaded from {model_path}\")\n",
    "        return model\n",
    "    except Exception as e:\n",
    "        logging.error(f\"Failed to load model: {e}\")\n",
    "        exit(1)"
   ]
  },
  {
   "cell_type": "code",
   "execution_count": 11,
   "id": "f6f0e703",
   "metadata": {},
   "outputs": [
    {
     "name": "stderr",
     "output_type": "stream",
     "text": [
      "2025-06-21 22:41:18,451 - INFO - Model loaded from models\\20250621_svm_model.pkl\n"
     ]
    },
    {
     "name": "stdout",
     "output_type": "stream",
     "text": [
      "📦 Dự đoán cảm xúc:\n",
      "🗨️ \"Giao hàng nhanh, sản phẩm đúng như mô tả.\" → 📌 pos\n",
      "🗨️ \"Sách bị rách và giao sai hàng.\" → 📌 neg\n",
      "🗨️ \"Chất lượng ổn, giá cả hợp lý.\" → 📌 pos\n",
      "🗨️ \"Thái độ nhân viên không tốt.\" → 📌 neg\n",
      "🗨️ \"Đóng gói cẩn thận, rất hài lòng.\" → 📌 pos\n"
     ]
    }
   ],
   "source": [
    "comments = [\n",
    "    \"Giao hàng nhanh, sản phẩm đúng như mô tả.\",\n",
    "    \"Sách bị rách và giao sai hàng.\",\n",
    "    \"Chất lượng ổn, giá cả hợp lý.\",\n",
    "    \"Thái độ nhân viên không tốt.\",\n",
    "    \"Đóng gói cẩn thận, rất hài lòng.\",\n",
    "]\n",
    "\n",
    "# Initialize text processor\n",
    "processor = TextProcessor(\n",
    "    teencode_path=teencode_path,\n",
    "    stopword_path=stopwords_path,\n",
    "    phrase_mapping_path=phrases_path,\n",
    ")\n",
    "\n",
    "# Load model and preprocess input\n",
    "model = load_model(\"models\\\\20250621_svm_model.pkl\")\n",
    "\n",
    "# Predict and display results\n",
    "print(\"📦 Dự đoán cảm xúc:\")\n",
    "for cmt in comments:\n",
    "    cleaned = processor.preprocess(cmt)\n",
    "    label = model.predict([cleaned])[0]\n",
    "    print(f'🗨️ \"{cmt}\" → 📌 {label}')"
   ]
  }
 ],
 "metadata": {
  "kernelspec": {
   "display_name": "Python 3",
   "language": "python",
   "name": "python3"
  },
  "language_info": {
   "codemirror_mode": {
    "name": "ipython",
    "version": 3
   },
   "file_extension": ".py",
   "mimetype": "text/x-python",
   "name": "python",
   "nbconvert_exporter": "python",
   "pygments_lexer": "ipython3",
   "version": "3.10.8"
  }
 },
 "nbformat": 4,
 "nbformat_minor": 5
}
