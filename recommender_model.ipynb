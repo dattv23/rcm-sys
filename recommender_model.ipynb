{
 "cells": [
  {
   "cell_type": "code",
   "execution_count": 1,
   "id": "5f5a077a",
   "metadata": {},
   "outputs": [],
   "source": [
    "import pandas as pd\n",
    "import os\n",
    "import pickle\n",
    "import joblib\n",
    "import logging\n",
    "from surprise import Dataset, Reader, SVD, NMF, KNNBasic, accuracy\n",
    "from surprise.model_selection import train_test_split"
   ]
  },
  {
   "cell_type": "code",
   "execution_count": 2,
   "id": "65a4d12d",
   "metadata": {},
   "outputs": [],
   "source": [
    "data_path = \"data/processed/reviews.csv\"\n",
    "output_dir = \"models/recommendation\"\n",
    "sentiment_model_dir = \"models/sentiment-analysis\"\n",
    "log_dir = \"log\"\n",
    "algorithm = \"SVD\"\n",
    "custom_params = None\n",
    "teencode_path = \"resources/teencode.csv\"\n",
    "stopwords_path = \"resources/stopwords.txt\"\n",
    "phrases_path = \"resources/phrase_mapping.csv\"\n",
    "\n",
    "mf_results = {}"
   ]
  },
  {
   "cell_type": "code",
   "execution_count": 3,
   "id": "544f5321",
   "metadata": {},
   "outputs": [],
   "source": [
    "# Logging setup\n",
    "os.makedirs(log_dir, exist_ok=True)\n",
    "log_file = os.path.join(log_dir, \"train_recommendation_model.log\")\n",
    "logging.basicConfig(\n",
    "    level=logging.INFO,\n",
    "    format=\"%(asctime)s - %(levelname)s - %(message)s\",\n",
    "    handlers=[logging.FileHandler(log_file, encoding=\"utf-8\"), logging.StreamHandler()],\n",
    ")"
   ]
  },
  {
   "cell_type": "code",
   "execution_count": 4,
   "id": "8bfbefea",
   "metadata": {},
   "outputs": [],
   "source": [
    "def load_data(\n",
    "    file_path: str,\n",
    "    sentiment_model=None,\n",
    "    text_processor=None,\n",
    "    filter_mismatch: bool = False,\n",
    "    invalid_output_path: str = 'reviews_invalid.csv',\n",
    "    use_deep_learning: bool = False,\n",
    "    tokenizer=None,\n",
    "):\n",
    "    \"\"\"\n",
    "    Load rating data and optionally filter out mismatched sentiment-rating rows.\n",
    "    Keeps reviews without comments and only filters ones with comment mismatches.\n",
    "\n",
    "    Parameters:\n",
    "        file_path (str): Path to ratings CSV file.\n",
    "        sentiment_model: Pre-trained sentiment classification model (ML model or PhoBERT).\n",
    "        text_processor: TextProcessor instance (only used for ML models).\n",
    "        filter_mismatch (bool): Whether to remove mismatched sentiment-rating pairs.\n",
    "        invalid_output_path (str): File path to store removed rows if any.\n",
    "        use_deep_learning (bool): If True, use PhoBERT model; if False, use traditional ML model.\n",
    "        tokenizer: Tokenizer for PhoBERT model (required when use_deep_learning=True).\n",
    "\n",
    "    Returns:\n",
    "        Dataset: surprise.Dataset object\n",
    "    \"\"\"\n",
    "    from surprise import Dataset, Reader\n",
    "    import torch\n",
    "    \n",
    "    logging.info(f\"Loading data from {file_path}\")\n",
    "    df = pd.read_csv(file_path)\n",
    "\n",
    "    total_before = len(df)\n",
    "\n",
    "    if filter_mismatch:\n",
    "        if sentiment_model is None:\n",
    "            raise ValueError(\"Sentiment model is required for filtering.\")\n",
    "        \n",
    "        if use_deep_learning and tokenizer is None:\n",
    "            raise ValueError(\"Tokenizer is required when using deep learning model.\")\n",
    "        \n",
    "        if not use_deep_learning and text_processor is None:\n",
    "            raise ValueError(\"Text processor is required when using traditional ML model.\")\n",
    "\n",
    "        logging.info(f\"Filtering mismatched sentiment and rating using {'deep learning (PhoBERT)' if use_deep_learning else 'traditional ML'}...\")\n",
    "\n",
    "        # Identify rows with comment to process\n",
    "        comment_mask = df[\"comment\"].notna() & df[\"comment\"].str.strip().ne(\"\")\n",
    "\n",
    "        df_comment = df[comment_mask].copy()\n",
    "        \n",
    "        if use_deep_learning:\n",
    "            # Use PhoBERT for sentiment prediction\n",
    "            df_comment[\"predicted_sentiment\"] = df_comment[\"comment\"].apply(\n",
    "                lambda text: predict_sentiment_phobert(text, sentiment_model, tokenizer)\n",
    "            )\n",
    "        else:\n",
    "            # Use traditional ML approach\n",
    "            df_comment[\"processed\"] = df_comment[\"comment\"].astype(str).apply(text_processor.preprocess)\n",
    "            df_comment[\"predicted_sentiment\"] = sentiment_model.predict(df_comment[\"processed\"])\n",
    "\n",
    "        # Valid if rating matches predicted sentiment\n",
    "        df_comment[\"is_valid\"] = ~(\n",
    "            ((df_comment[\"rating\"] >= 4) & (df_comment[\"predicted_sentiment\"] == \"neg\")) |\n",
    "            ((df_comment[\"rating\"] <= 2) & (df_comment[\"predicted_sentiment\"] == \"pos\"))\n",
    "        )\n",
    "\n",
    "        # Combine: keep valid comments + all no-comment rows\n",
    "        mismatched = df_comment[~df_comment[\"is_valid\"]]\n",
    "        valid_comments = df_comment[df_comment[\"is_valid\"]]\n",
    "        df_nocomment = df[~comment_mask]\n",
    "        df_final = pd.concat([valid_comments, df_nocomment], ignore_index=True)\n",
    "\n",
    "        # Logging\n",
    "        logging.info(f\"Total reviews before filtering: {total_before}\")\n",
    "        logging.info(f\"Reviews with comment: {len(df_comment)}\")\n",
    "        logging.info(f\"Reviews removed due to mismatch: {len(mismatched)}\")\n",
    "        logging.info(f\"Remaining reviews after filtering: {len(df_final)}\")\n",
    "\n",
    "        # Save mismatched reviews\n",
    "        parent_dir = os.path.dirname(invalid_output_path)\n",
    "        if parent_dir:\n",
    "            os.makedirs(parent_dir, exist_ok=True)\n",
    "        mismatched.to_csv(invalid_output_path, index=False, encoding=\"utf-8\")\n",
    "        logging.info(f\"Mismatched reviews saved to {invalid_output_path}\")\n",
    "\n",
    "        df = df_final\n",
    "\n",
    "    reader = Reader(rating_scale=(1, 5))\n",
    "    data = Dataset.load_from_df(df[[\"userId\", \"productId\", \"rating\"]], reader)\n",
    "    return data\n",
    "\n",
    "\n",
    "def predict_sentiment_phobert(text: str, model, tokenizer) -> str:\n",
    "    \"\"\"\n",
    "    Predict sentiment using PhoBERT model.\n",
    "    \n",
    "    Parameters:\n",
    "        text (str): Input text to analyze\n",
    "        model: PhoBERT model for sentiment classification\n",
    "        tokenizer: PhoBERT tokenizer\n",
    "        \n",
    "    Returns:\n",
    "        str: Predicted sentiment ('pos' or 'neg')\n",
    "    \"\"\"\n",
    "    import torch\n",
    "    \n",
    "    # Tokenize input text\n",
    "    inputs = tokenizer(\n",
    "        text, \n",
    "        return_tensors=\"pt\", \n",
    "        truncation=True, \n",
    "        padding=True, \n",
    "        max_length=256\n",
    "    )\n",
    "    \n",
    "    # Set model to evaluation mode\n",
    "    model.eval()\n",
    "    \n",
    "    # Make prediction\n",
    "    with torch.no_grad():\n",
    "        outputs = model(**inputs)\n",
    "        predictions = torch.nn.functional.softmax(outputs.logits, dim=-1)\n",
    "        predicted_class = torch.argmax(predictions, dim=-1).item()\n",
    "    \n",
    "    # Convert to sentiment label (assuming 0=negative, 1=positive)\n",
    "    return \"pos\" if predicted_class == 1 else \"neg\"\n",
    "\n",
    "\n",
    "def train_model(data, algorithm=\"SVD\", params=None):\n",
    "    logging.info(f\"Training model using algorithm: {algorithm}\")\n",
    "    trainset, testset = train_test_split(data, test_size=0.2)\n",
    "\n",
    "\n",
    "    if algorithm == \"SVD\":\n",
    "        default_params = {\n",
    "            \"n_factors\": 20,\n",
    "            \"n_epochs\": 50,\n",
    "            \"lr_all\": 0.005,\n",
    "            \"reg_all\": 0.01,\n",
    "        }\n",
    "        model = SVD(**(params or default_params))\n",
    "    elif algorithm == \"NMF\":\n",
    "        default_params = {\"n_factors\": 50, \"n_epochs\": 50}\n",
    "        model = NMF(**(params or default_params))\n",
    "    elif algorithm == \"KNNBasic\":\n",
    "        default_params = {\n",
    "            \"k\": 40,\n",
    "            \"sim_options\": {\"name\": \"cosine\", \"user_based\": False},\n",
    "        }\n",
    "        model = KNNBasic(**(params or default_params))\n",
    "    else:\n",
    "        raise ValueError(f\"Unsupported algorithm: {algorithm}\")\n",
    "\n",
    "    model.fit(trainset)\n",
    "\n",
    "    predictions = model.test(testset)\n",
    "\n",
    "    rmse = accuracy.rmse(predictions, verbose=False)\n",
    "    mae = accuracy.mae(predictions, verbose=False)\n",
    "\n",
    "\n",
    "    logging.info(f\"RMSE: {rmse:.4f}, MAE: {mae:.4f}\")\n",
    "\n",
    "    return model, rmse, mae\n",
    "\n",
    "\n",
    "def save_model(model, output_dir=\"model.pkl\"):\n",
    "    with open(output_dir, \"wb\") as f:\n",
    "        pickle.dump(model, f)\n",
    "    logging.info(f\"Model saved to {output_dir}\")\n",
    "\n",
    "\n",
    "def load_model(model_path=\"model.pkl\"):\n",
    "    try:\n",
    "        with open(model_path, \"rb\") as f:\n",
    "            model = pickle.load(f)\n",
    "        logging.info(f\"Model loaded from {model_path}\")\n",
    "\n",
    "\n",
    "        return model\n",
    "    except Exception as e:\n",
    "        logging.error(f\"Failed to load model: {e}\")\n",
    "        return None\n",
    "\n",
    "\n",
    "def load_sentiment_model(model_path):\n",
    "    \"\"\"Load a trained sentiment analysis model from file.\"\"\"\n",
    "    try:\n",
    "        model = joblib.load(model_path)\n",
    "        logging.info(f\"Model loaded from {model_path}\")\n",
    "        return model\n",
    "    except Exception as e:\n",
    "        logging.error(f\"Failed to load model: {e}\")\n",
    "        exit(1)\n",
    "\n",
    "\n",
    "def get_user_recommendations(model, df, userId, top_k=10, exclude_purchased=True):\n",
    "    all_products = df[\"productId\"].unique()\n",
    "    user_products = set(df[df[\"userId\"] == userId][\"productId\"].values)\n",
    "\n",
    "    predictions = []\n",
    "\n",
    "    for productId in all_products:\n",
    "        if exclude_purchased and productId in user_products:\n",
    "            continue\n",
    "        pred = model.predict(userId, productId)\n",
    "        predictions.append((productId, pred.est))\n",
    "\n",
    "    predictions.sort(key=lambda x: x[1], reverse=True)\n",
    "    top_recs = [prod_id for prod_id, _ in predictions[:top_k]]\n",
    "    return top_recs"
   ]
  },
  {
   "cell_type": "code",
   "execution_count": 5,
   "id": "71b39cda",
   "metadata": {},
   "outputs": [
    {
     "name": "stderr",
     "output_type": "stream",
     "text": [
      "2025-06-27 08:27:05,970 - INFO - Start training pipeline\n",
      "2025-06-27 08:27:12,545 - INFO - Loading data from data/processed/reviews.csv\n",
      "2025-06-27 08:27:13,856 - INFO - Training model using algorithm: SVD\n",
      "2025-06-27 08:27:22,853 - INFO - RMSE: 0.5591, MAE: 0.2956\n",
      "2025-06-27 08:27:23,266 - INFO - Model saved to models/recommendation/mf_SVD.pkl\n"
     ]
    },
    {
     "name": "stdout",
     "output_type": "stream",
     "text": [
      "✅ Training complete\n",
      "RMSE: 0.5591117970923313\n",
      "MAE: 0.2956284681194409\n",
      "Model saved to: models/recommendation/mf_SVD.pkl\n"
     ]
    }
   ],
   "source": [
    "logging.info(\"Start training pipeline\")\n",
    "data = load_data(data_path)\n",
    "model, rmse, mae = train_model(data, algorithm, custom_params)\n",
    "model_path = f\"{output_dir}/mf_{algorithm}.pkl\"\n",
    "save_model(model, model_path)\n",
    "\n",
    "print(\"✅ Training complete\")\n",
    "print(\"RMSE:\", rmse)\n",
    "print(\"MAE:\", mae)\n",
    "print(\"Model saved to:\", model_path)\n",
    "mf_results[\"original\"] = (rmse, mae)"
   ]
  },
  {
   "cell_type": "code",
   "execution_count": 6,
   "id": "9de34b4c",
   "metadata": {},
   "outputs": [],
   "source": [
    "from preprocessing.text_processor import TextProcessor\n",
    "\n",
    "# Initialize text processor\n",
    "processor = TextProcessor(\n",
    "    teencode_path=teencode_path,\n",
    "    stopword_path=stopwords_path,\n",
    "    phrase_mapping_path=phrases_path,\n",
    ")"
   ]
  },
  {
   "cell_type": "code",
   "execution_count": 7,
   "id": "5025b9dc",
   "metadata": {},
   "outputs": [
    {
     "name": "stderr",
     "output_type": "stream",
     "text": [
      "2025-06-27 08:27:26,982 - INFO - Start training pipeline with sentiment model: svm\n"
     ]
    },
    {
     "name": "stdout",
     "output_type": "stream",
     "text": [
      "\n",
      "🔄 Running MF pipeline with sentiment model: SVM\n"
     ]
    },
    {
     "name": "stderr",
     "output_type": "stream",
     "text": [
      "2025-06-27 08:27:27,846 - INFO - Model loaded from models/sentiment-analysis/svm.pkl\n",
      "2025-06-27 08:27:27,846 - INFO - Loading data from data/processed/reviews.csv\n",
      "2025-06-27 08:27:28,262 - INFO - Filtering mismatched sentiment and rating using traditional ML...\n",
      "2025-06-27 08:30:05,112 - INFO - Total reviews before filtering: 296836\n",
      "2025-06-27 08:30:05,113 - INFO - Reviews with comment: 99520\n",
      "2025-06-27 08:30:05,114 - INFO - Reviews removed due to mismatch: 16327\n",
      "2025-06-27 08:30:05,115 - INFO - Remaining reviews after filtering: 280509\n",
      "2025-06-27 08:30:05,243 - INFO - Mismatched reviews saved to log\\invalid_reviews_svm.log\n",
      "2025-06-27 08:30:05,634 - INFO - Training model using algorithm: SVD\n",
      "2025-06-27 08:30:11,270 - INFO - RMSE: 0.5526, MAE: 0.2847\n",
      "2025-06-27 08:30:11,630 - INFO - Model saved to models/recommendation\\mf_svm.pkl\n",
      "2025-06-27 08:30:11,631 - INFO - Start training pipeline with sentiment model: logistic\n",
      "2025-06-27 08:30:11,650 - INFO - Model loaded from models/sentiment-analysis/logistic.pkl\n",
      "2025-06-27 08:30:11,652 - INFO - Loading data from data/processed/reviews.csv\n"
     ]
    },
    {
     "name": "stdout",
     "output_type": "stream",
     "text": [
      "✅ MF Training complete with sentiment model: SVM\n",
      "📉 RMSE: 0.5525984658366154\n",
      "📈 MAE: 0.28467847890710185\n",
      "\n",
      "🔄 Running MF pipeline with sentiment model: LOGISTIC\n"
     ]
    },
    {
     "name": "stderr",
     "output_type": "stream",
     "text": [
      "2025-06-27 08:30:12,019 - INFO - Filtering mismatched sentiment and rating using traditional ML...\n",
      "2025-06-27 08:32:23,671 - INFO - Total reviews before filtering: 296836\n",
      "2025-06-27 08:32:23,672 - INFO - Reviews with comment: 99520\n",
      "2025-06-27 08:32:23,673 - INFO - Reviews removed due to mismatch: 17450\n",
      "2025-06-27 08:32:23,674 - INFO - Remaining reviews after filtering: 279386\n",
      "2025-06-27 08:32:23,786 - INFO - Mismatched reviews saved to log\\invalid_reviews_logistic.log\n",
      "2025-06-27 08:32:24,021 - INFO - Training model using algorithm: SVD\n",
      "2025-06-27 08:32:29,663 - INFO - RMSE: 0.5535, MAE: 0.2880\n",
      "2025-06-27 08:32:30,011 - INFO - Model saved to models/recommendation\\mf_logistic.pkl\n",
      "2025-06-27 08:32:30,012 - INFO - Start training pipeline with sentiment model: naive_bayes\n",
      "2025-06-27 08:32:30,033 - INFO - Model loaded from models/sentiment-analysis/naive_bayes.pkl\n",
      "2025-06-27 08:32:30,034 - INFO - Loading data from data/processed/reviews.csv\n"
     ]
    },
    {
     "name": "stdout",
     "output_type": "stream",
     "text": [
      "✅ MF Training complete with sentiment model: LOGISTIC\n",
      "📉 RMSE: 0.5534604488256091\n",
      "📈 MAE: 0.288027899114863\n",
      "\n",
      "🔄 Running MF pipeline with sentiment model: NAIVE_BAYES\n"
     ]
    },
    {
     "name": "stderr",
     "output_type": "stream",
     "text": [
      "2025-06-27 08:32:30,409 - INFO - Filtering mismatched sentiment and rating using traditional ML...\n",
      "2025-06-27 08:34:52,758 - INFO - Total reviews before filtering: 296836\n",
      "2025-06-27 08:34:52,758 - INFO - Reviews with comment: 99520\n",
      "2025-06-27 08:34:52,758 - INFO - Reviews removed due to mismatch: 14345\n",
      "2025-06-27 08:34:52,758 - INFO - Remaining reviews after filtering: 282491\n",
      "2025-06-27 08:34:52,927 - INFO - Mismatched reviews saved to log\\invalid_reviews_naive_bayes.log\n",
      "2025-06-27 08:34:53,326 - INFO - Training model using algorithm: SVD\n",
      "2025-06-27 08:35:02,322 - INFO - RMSE: 0.5466, MAE: 0.2812\n",
      "2025-06-27 08:35:02,790 - INFO - Model saved to models/recommendation\\mf_naive_bayes.pkl\n",
      "2025-06-27 08:35:02,790 - INFO - Start training pipeline with sentiment model: random_forest\n"
     ]
    },
    {
     "name": "stdout",
     "output_type": "stream",
     "text": [
      "✅ MF Training complete with sentiment model: NAIVE_BAYES\n",
      "📉 RMSE: 0.5465505426085967\n",
      "📈 MAE: 0.28122992576434647\n",
      "\n",
      "🔄 Running MF pipeline with sentiment model: RANDOM_FOREST\n"
     ]
    },
    {
     "name": "stderr",
     "output_type": "stream",
     "text": [
      "2025-06-27 08:35:03,389 - INFO - Model loaded from models/sentiment-analysis/random_forest.pkl\n",
      "2025-06-27 08:35:03,398 - INFO - Loading data from data/processed/reviews.csv\n",
      "2025-06-27 08:35:03,919 - INFO - Filtering mismatched sentiment and rating using traditional ML...\n",
      "2025-06-27 08:37:40,443 - INFO - Total reviews before filtering: 296836\n",
      "2025-06-27 08:37:40,445 - INFO - Reviews with comment: 99520\n",
      "2025-06-27 08:37:40,446 - INFO - Reviews removed due to mismatch: 15105\n",
      "2025-06-27 08:37:40,447 - INFO - Remaining reviews after filtering: 281731\n",
      "2025-06-27 08:37:40,632 - INFO - Mismatched reviews saved to log\\invalid_reviews_random_forest.log\n",
      "2025-06-27 08:37:40,896 - INFO - Training model using algorithm: SVD\n",
      "2025-06-27 08:37:47,927 - INFO - RMSE: 0.5434, MAE: 0.2810\n",
      "2025-06-27 08:37:48,457 - INFO - Model saved to models/recommendation\\mf_random_forest.pkl\n",
      "2025-06-27 08:37:48,458 - INFO - Start training pipeline with sentiment model: knn\n",
      "2025-06-27 08:37:48,481 - INFO - Model loaded from models/sentiment-analysis/knn.pkl\n",
      "2025-06-27 08:37:48,484 - INFO - Loading data from data/processed/reviews.csv\n"
     ]
    },
    {
     "name": "stdout",
     "output_type": "stream",
     "text": [
      "✅ MF Training complete with sentiment model: RANDOM_FOREST\n",
      "📉 RMSE: 0.5433966464296912\n",
      "📈 MAE: 0.28097146352796876\n",
      "\n",
      "🔄 Running MF pipeline with sentiment model: KNN\n"
     ]
    },
    {
     "name": "stderr",
     "output_type": "stream",
     "text": [
      "2025-06-27 08:37:49,027 - INFO - Filtering mismatched sentiment and rating using traditional ML...\n",
      "2025-06-27 08:40:38,492 - INFO - Total reviews before filtering: 296836\n",
      "2025-06-27 08:40:38,500 - INFO - Reviews with comment: 99520\n",
      "2025-06-27 08:40:38,500 - INFO - Reviews removed due to mismatch: 8097\n",
      "2025-06-27 08:40:38,501 - INFO - Remaining reviews after filtering: 288739\n",
      "2025-06-27 08:40:38,561 - INFO - Mismatched reviews saved to log\\invalid_reviews_knn.log\n",
      "2025-06-27 08:40:38,831 - INFO - Training model using algorithm: SVD\n",
      "2025-06-27 08:40:46,435 - INFO - RMSE: 0.4415, MAE: 0.2343\n",
      "2025-06-27 08:40:46,966 - INFO - Model saved to models/recommendation\\mf_knn.pkl\n"
     ]
    },
    {
     "name": "stdout",
     "output_type": "stream",
     "text": [
      "✅ MF Training complete with sentiment model: KNN\n",
      "📉 RMSE: 0.44150250279070685\n",
      "📈 MAE: 0.23430856736343275\n"
     ]
    }
   ],
   "source": [
    "import logging\n",
    "\n",
    "sentiment_models = [\"svm\", \"logistic\", \"naive_bayes\", \"random_forest\", \"knn\"]\n",
    "\n",
    "for model_name in sentiment_models:\n",
    "    print(f\"\\n🔄 Running MF pipeline with sentiment model: {model_name.upper()}\")\n",
    "    logging.info(f\"Start training pipeline with sentiment model: {model_name}\")\n",
    "\n",
    "    sentiment_model_path = f\"{sentiment_model_dir}/{model_name}.pkl\"\n",
    "    sentiment_model = load_sentiment_model(sentiment_model_path)\n",
    "\n",
    "    data = load_data(\n",
    "        data_path,\n",
    "        sentiment_model,\n",
    "        processor,\n",
    "        filter_mismatch=True,\n",
    "        invalid_output_path=f\"{log_dir}\\invalid_reviews_{model_name}.log\",\n",
    "    )\n",
    "\n",
    "    model, rmse, mae = train_model(data, algorithm, custom_params)\n",
    "    save_model(model, f\"{output_dir}\\mf_{model_name}.pkl\")\n",
    "\n",
    "    # Ghi log và hiển thị kết quả\n",
    "    print(f\"✅ MF Training complete with sentiment model: {model_name.upper()}\")\n",
    "    print(\"📉 RMSE:\", rmse)\n",
    "    print(\"📈 MAE:\", mae)\n",
    "\n",
    "    mf_results[model_name] = (rmse, mae)"
   ]
  },
  {
   "cell_type": "code",
   "execution_count": 8,
   "id": "ed666618",
   "metadata": {},
   "outputs": [
    {
     "name": "stderr",
     "output_type": "stream",
     "text": [
      "2025-06-27 08:40:57,872 - INFO - Loading data from data/processed/reviews.csv\n",
      "2025-06-27 08:40:58,316 - INFO - Filtering mismatched sentiment and rating using deep learning (PhoBERT)...\n",
      "2025-06-27 11:20:15,096 - INFO - Total reviews before filtering: 296836\n",
      "2025-06-27 11:20:15,164 - INFO - Reviews with comment: 99520\n",
      "2025-06-27 11:20:15,167 - INFO - Reviews removed due to mismatch: 12724\n",
      "2025-06-27 11:20:15,168 - INFO - Remaining reviews after filtering: 284112\n",
      "2025-06-27 11:20:15,370 - INFO - Mismatched reviews saved to log\\invalid_reviews_PhoBert.log\n",
      "2025-06-27 11:20:16,411 - INFO - Training model using algorithm: SVD\n",
      "2025-06-27 11:20:27,416 - INFO - RMSE: 0.5498, MAE: 0.2789\n",
      "2025-06-27 11:20:27,878 - INFO - Model saved to models/recommendation\\mf_SVD_PhoBert.pkl\n"
     ]
    },
    {
     "name": "stdout",
     "output_type": "stream",
     "text": [
      "✅ Training complete\n",
      "RMSE: 0.5497998913753387\n",
      "MAE: 0.2788963367868081\n",
      "Model saved to: models/recommendation\\mf_SVD_PhoBert.pkl\n"
     ]
    }
   ],
   "source": [
    "import torch\n",
    "from transformers import RobertaForSequenceClassification, AutoTokenizer\n",
    "\n",
    "# Tải mô hình và tokenizer\n",
    "model = RobertaForSequenceClassification.from_pretrained(\n",
    "    \"wonrax/phobert-base-vietnamese-sentiment\"\n",
    ")\n",
    "tokenizer = AutoTokenizer.from_pretrained(\n",
    "    \"wonrax/phobert-base-vietnamese-sentiment\", use_fast=False\n",
    ")\n",
    "\n",
    "data = load_data(\n",
    "    file_path=data_path,\n",
    "    sentiment_model=model,\n",
    "    tokenizer=tokenizer,\n",
    "    filter_mismatch=True,\n",
    "    use_deep_learning=True,\n",
    "    invalid_output_path=f\"{log_dir}\\invalid_reviews_PhoBert.log\",\n",
    ")\n",
    "\n",
    "model, rmse, mae = train_model(data, algorithm, custom_params)\n",
    "model_path = f\"{output_dir}\\mf_{algorithm}_PhoBert.pkl\"\n",
    "save_model(model, model_path)\n",
    "\n",
    "print(\"✅ Training complete\")\n",
    "print(\"RMSE:\", rmse)\n",
    "print(\"MAE:\", mae)\n",
    "print(\"Model saved to:\", model_path)\n",
    "mf_results[\"PhoBert\"] = (rmse, mae)"
   ]
  },
  {
   "cell_type": "code",
   "execution_count": 9,
   "id": "c9e75a17",
   "metadata": {},
   "outputs": [
    {
     "name": "stdout",
     "output_type": "stream",
     "text": [
      "{'original': (0.5591117970923313, 0.2956284681194409), 'svm': (0.5525984658366154, 0.28467847890710185), 'logistic': (0.5534604488256091, 0.288027899114863), 'naive_bayes': (0.5465505426085967, 0.28122992576434647), 'random_forest': (0.5433966464296912, 0.28097146352796876), 'knn': (0.44150250279070685, 0.23430856736343275), 'PhoBert': (0.5497998913753387, 0.2788963367868081)}\n"
     ]
    }
   ],
   "source": [
    "print(mf_results)"
   ]
  },
  {
   "cell_type": "code",
   "execution_count": 10,
   "id": "705d0972",
   "metadata": {},
   "outputs": [
    {
     "data": {
      "image/png": "[encoded data removed]",
      "text/plain": [
       "<Figure size 1000x600 with 1 Axes>"
      ]
     },
     "metadata": {},
     "output_type": "display_data"
    }
   ],
   "source": [
    "# Extract model names and their corresponding RMSE and MAE values\n",
    "from matplotlib import pyplot as plt\n",
    "\n",
    "\n",
    "models = list(mf_results.keys())\n",
    "rmse_scores = [mf_results[m][0] for m in models]\n",
    "mae_scores = [mf_results[m][1] for m in models]\n",
    "\n",
    "# Create a line chart\n",
    "plt.figure(figsize=(10, 6))\n",
    "plt.plot(models, rmse_scores, marker=\"o\", label=\"RMSE\", linewidth=2)\n",
    "plt.plot(models, mae_scores, marker=\"s\", label=\"MAE\", linewidth=2)\n",
    "\n",
    "# Customize the chart\n",
    "plt.title(\"Comparison of RMSE and MAE across sentiment models\", fontsize=14)\n",
    "plt.xlabel(\"Sentiment Analysis Model\", fontsize=12)\n",
    "plt.ylabel(\"Error Value\", fontsize=12)\n",
    "plt.legend()\n",
    "plt.grid(True)\n",
    "plt.tight_layout()\n",
    "\n",
    "# Display the chart\n",
    "plt.show()"
   ]
  }
 ],
 "metadata": {
  "kernelspec": {
   "display_name": "Python 3",
   "language": "python",
   "name": "python3"
  },
  "language_info": {
   "codemirror_mode": {
    "name": "ipython",
    "version": 3
   },
   "file_extension": ".py",
   "mimetype": "text/x-python",
   "name": "python",
   "nbconvert_exporter": "python",
   "pygments_lexer": "ipython3",
   "version": "3.10.8"
  }
 },
 "nbformat": 4,
 "nbformat_minor": 5
}
