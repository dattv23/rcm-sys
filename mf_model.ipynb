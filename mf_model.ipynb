{
 "cells": [
  {
   "cell_type": "code",
   "execution_count": 3,
   "id": "5f5a077a",
   "metadata": {},
   "outputs": [],
   "source": [
    "import pandas as pd\n",
    "import argparse\n",
    "import os\n",
    "import pickle\n",
    "import json\n",
    "import logging\n",
    "from surprise import Dataset, Reader, SVD, NMF, KNNBasic, accuracy\n",
    "from surprise.model_selection import train_test_split"
   ]
  },
  {
   "cell_type": "code",
   "execution_count": 4,
   "id": "544f5321",
   "metadata": {},
   "outputs": [],
   "source": [
    "# Logging setup\n",
    "log_dir = \"log\"\n",
    "os.makedirs(log_dir, exist_ok=True)\n",
    "log_file = os.path.join(log_dir, \"train_mf_model.log\")\n",
    "logging.basicConfig(\n",
    "    level=logging.INFO,\n",
    "    format=\"%(asctime)s - %(levelname)s - %(message)s\",\n",
    "    handlers=[logging.FileHandler(log_file, encoding=\"utf-8\"), logging.StreamHandler()],\n",
    ")"
   ]
  },
  {
   "cell_type": "code",
   "execution_count": 15,
   "id": "8bfbefea",
   "metadata": {},
   "outputs": [],
   "source": [
    "def load_data(file_path: str):\n",
    "    logging.info(f\"Loading data from {file_path}\")\n",
    "    df = pd.read_csv(file_path)\n",
    "    reader = Reader(rating_scale=(1, 5))\n",
    "    data = Dataset.load_from_df(df[[\"userId\", \"productId\", \"rating\"]], reader)\n",
    "    return data\n",
    "\n",
    "\n",
    "def train_model(data, algorithm=\"SVD\", params=None):\n",
    "    logging.info(f\"Training model using algorithm: {algorithm}\")\n",
    "    trainset, testset = train_test_split(data, test_size=0.2)\n",
    "\n",
    "    if algorithm == \"SVD\":\n",
    "        default_params = {\n",
    "            \"n_factors\": 20,\n",
    "            \"n_epochs\": 50,\n",
    "            \"lr_all\": 0.005,\n",
    "            \"reg_all\": 0.01,\n",
    "        }\n",
    "        model = SVD(**(params or default_params))\n",
    "    elif algorithm == \"NMF\":\n",
    "        default_params = {\"n_factors\": 50, \"n_epochs\": 50}\n",
    "        model = NMF(**(params or default_params))\n",
    "    elif algorithm == \"KNNBasic\":\n",
    "        default_params = {\n",
    "            \"k\": 40,\n",
    "            \"sim_options\": {\"name\": \"cosine\", \"user_based\": False},\n",
    "        }\n",
    "        model = KNNBasic(**(params or default_params))\n",
    "    else:\n",
    "        raise ValueError(f\"Unsupported algorithm: {algorithm}\")\n",
    "\n",
    "    model.fit(trainset)\n",
    "    predictions = model.test(testset)\n",
    "\n",
    "    rmse = accuracy.rmse(predictions, verbose=False)\n",
    "    mae = accuracy.mae(predictions, verbose=False)\n",
    "\n",
    "    logging.info(f\"RMSE: {rmse:.4f}, MAE: {mae:.4f}\")\n",
    "\n",
    "    return model, rmse, mae\n",
    "\n",
    "\n",
    "def save_model(model, output_path=\"model.pkl\"):\n",
    "    with open(output_path, \"wb\") as f:\n",
    "        pickle.dump(model, f)\n",
    "    logging.info(f\"Model saved to {output_path}\")\n",
    "\n",
    "\n",
    "def load_model(model_path=\"model.pkl\"):\n",
    "    try:\n",
    "        with open(model_path, \"rb\") as f:\n",
    "            model = pickle.load(f)\n",
    "        logging.info(f\"Model loaded from {model_path}\")\n",
    "        return model\n",
    "    except Exception as e:\n",
    "        logging.error(f\"Failed to load model: {e}\")\n",
    "        return None\n",
    "\n",
    "\n",
    "def get_user_recommendations(model, df, userId, top_k=10, exclude_purchased=True):\n",
    "    all_products = df[\"productId\"].unique()\n",
    "    user_products = set(df[df[\"userId\"] == userId][\"productId\"].values)\n",
    "\n",
    "    predictions = []\n",
    "    for productId in all_products:\n",
    "        if exclude_purchased and productId in user_products:\n",
    "            continue\n",
    "        pred = model.predict(userId, productId)\n",
    "        predictions.append((productId, pred.est))\n",
    "\n",
    "    predictions.sort(key=lambda x: x[1], reverse=True)\n",
    "    top_recs = [prod_id for prod_id, _ in predictions[:top_k]]\n",
    "    return top_recs"
   ]
  },
  {
   "cell_type": "code",
   "execution_count": 13,
   "id": "65a4d12d",
   "metadata": {},
   "outputs": [],
   "source": [
    "data_path = \"data/processed/reviews.csv\"\n",
    "output_path = \"models/mf_model.pkl\"\n",
    "algorithm = \"SVD\"\n",
    "custom_params = None"
   ]
  },
  {
   "cell_type": "code",
   "execution_count": null,
   "id": "71b39cda",
   "metadata": {},
   "outputs": [
    {
     "name": "stderr",
     "output_type": "stream",
     "text": [
      "2025-06-21 22:31:32,099 - INFO - Start training pipeline\n",
      "2025-06-21 22:31:32,100 - INFO - Loading data from data/processed/reviews.csv\n",
      "2025-06-21 22:31:32,810 - INFO - Training model using algorithm: SVD\n",
      "2025-06-21 22:31:39,185 - INFO - RMSE: 0.5562, MAE: 0.2961\n",
      "2025-06-21 22:31:39,636 - INFO - Model saved to models/mf_model.pkl\n"
     ]
    },
    {
     "name": "stdout",
     "output_type": "stream",
     "text": [
      "✅ Training complete\n",
      "RMSE: 0.556219214330712\n",
      "MAE: 0.2960820205624096\n",
      "Model saved to: models/mf_model.pkl\n"
     ]
    }
   ],
   "source": [
    "logging.info(\"Start training pipeline\")\n",
    "data = load_data(data_path)\n",
    "model, rmse, mae = train_model(data, algorithm, custom_params)\n",
    "save_model(model, output_path)\n",
    "\n",
    "print(\"✅ Training complete\")\n",
    "print(\"RMSE:\", rmse)\n",
    "print(\"MAE:\", mae)\n",
    "print(\"Model saved to:\", output_path)"
   ]
  },
  {
   "cell_type": "code",
   "execution_count": 17,
   "id": "0bef09cd",
   "metadata": {},
   "outputs": [
    {
     "name": "stderr",
     "output_type": "stream",
     "text": [
      "2025-06-21 22:34:58,989 - INFO - Model loaded from models/mf_model.pkl\n"
     ]
    }
   ],
   "source": [
    "df = pd.read_csv(data_path)\n",
    "mf_model = load_model(output_path)"
   ]
  },
  {
   "cell_type": "code",
   "execution_count": 18,
   "id": "d86332bf",
   "metadata": {},
   "outputs": [
    {
     "data": {
      "text/plain": [
       "[140012510,\n",
       " 14453314,\n",
       " 1667493,\n",
       " 167935897,\n",
       " 175798776,\n",
       " 187183513,\n",
       " 191782133,\n",
       " 194130726,\n",
       " 196001721,\n",
       " 201845361]"
      ]
     },
     "execution_count": 18,
     "metadata": {},
     "output_type": "execute_result"
    }
   ],
   "source": [
    "get_user_recommendations(mf_model, df, 21665899)"
   ]
  }
 ],
 "metadata": {
  "kernelspec": {
   "display_name": "Python 3",
   "language": "python",
   "name": "python3"
  },
  "language_info": {
   "codemirror_mode": {
    "name": "ipython",
    "version": 3
   },
   "file_extension": ".py",
   "mimetype": "text/x-python",
   "name": "python",
   "nbconvert_exporter": "python",
   "pygments_lexer": "ipython3",
   "version": "3.10.8"
  }
 },
 "nbformat": 4,
 "nbformat_minor": 5
}
